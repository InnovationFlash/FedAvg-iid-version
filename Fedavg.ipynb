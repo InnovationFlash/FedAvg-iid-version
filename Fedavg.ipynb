{
 "cells": [
  {
   "cell_type": "code",
   "execution_count": 1,
   "metadata": {},
   "outputs": [],
   "source": [
    "import torch\n",
    "import pandas as pd\n",
    "import numpy as np\n",
    "import os\n",
    "\n",
    "import matplotlib.pyplot as plt\n",
    "from sklearn import tree\n",
    "from torch.utils.data import Dataset\n",
    "from sklearn.metrics import accuracy_score\n",
    "from sklearn.ensemble import RandomForestClassifier\n",
    "import random\n",
    "import math\n",
    "from torch.utils.tensorboard import SummaryWriter\n",
    "from matplotlib import pyplot\n",
    "\n",
    "from pathlib import Path\n",
    "import requests\n",
    "import pickle\n",
    "import gzip\n",
    "\n",
    "import torch\n",
    "import math\n",
    "import torch.nn.functional as F\n",
    "from torch import nn\n",
    "from torch import optim\n",
    "import torchvision\n",
    "from torchvision import datasets\n",
    "import torchvision.transforms as transforms\n",
    "from torch.utils.data import TensorDataset\n",
    "from torch.utils.data import DataLoader"
   ]
  },
  {
   "cell_type": "code",
   "execution_count": 2,
   "metadata": {},
   "outputs": [],
   "source": [
    "def get_default_device():\n",
    "    if torch.cuda.is_available():\n",
    "        return torch.device('cuda')\n",
    "    else:\n",
    "        return torch.device('cpu')"
   ]
  },
  {
   "cell_type": "code",
   "execution_count": 3,
   "metadata": {},
   "outputs": [],
   "source": [
    "device=get_default_device()"
   ]
  },
  {
   "cell_type": "code",
   "execution_count": 4,
   "metadata": {},
   "outputs": [],
   "source": [
    "def to_device(data,device):\n",
    "    if isinstance(data,(list,tuple)):\n",
    "        return [to_device(x,device) for x in data]\n",
    "    return data.to(device,non_blocking=True)"
   ]
  },
  {
   "cell_type": "code",
   "execution_count": 5,
   "metadata": {},
   "outputs": [],
   "source": [
    "class DeviceDataLoader():\n",
    "    def __init__(self,dl,device):\n",
    "        self.dl=dl\n",
    "        self.device=device\n",
    "    def __iter(self):\n",
    "        for b in self.dl:\n",
    "            yield to_device(b,self.device)\n",
    "    def __len__(self):\n",
    "        return len(self.dl)"
   ]
  },
  {
   "cell_type": "code",
   "execution_count": 6,
   "metadata": {},
   "outputs": [],
   "source": [
    "pd.options.display.float_format=\"{:,.4f}\".format"
   ]
  },
  {
   "cell_type": "code",
   "execution_count": 7,
   "metadata": {},
   "outputs": [],
   "source": [
    "class DealDataset(Dataset):\n",
    "    \"\"\"\n",
    "        读取数据、初始化数据\n",
    "    \"\"\"\n",
    "    def __init__(self, folder, data_name, label_name,transform=None):\n",
    "        with gzip.open(os.path.join(folder,label_name), 'rb') as lbpath: # rb表示的是读取二进制数据\n",
    "            y_train = np.frombuffer(lbpath.read(), np.uint8, offset=8)\n",
    "\n",
    "        with gzip.open(os.path.join(folder,data_name), 'rb') as imgpath:\n",
    "            x_train = np.frombuffer(\n",
    "            imgpath.read(), np.uint8, offset=16).reshape(len(y_train), 28, 28)\n",
    "        self.train_set = x_train.reshape(x_train.shape[0],-1)\n",
    "        self.train_labels = y_train\n",
    "        self.train_set\n",
    "        self.train_labels\n",
    "        self.transform = transform\n",
    "\n",
    "    def __getitem__(self, index):\n",
    "\n",
    "        img, target = self.train_set[index], int(self.train_labels[index])\n",
    "        if self.transform is not None:\n",
    "            img = self.transform(img)\n",
    "        return img, target\n",
    "\n",
    "    def __len__(self):\n",
    "        return len(self.train_set)"
   ]
  },
  {
   "cell_type": "code",
   "execution_count": 8,
   "metadata": {
    "scrolled": true
   },
   "outputs": [
    {
     "name": "stdout",
     "output_type": "stream",
     "text": [
      "(60000, 784)\n",
      "(60000,)\n",
      "(10000, 784)\n",
      "(10000,)\n"
     ]
    }
   ],
   "source": [
    "# 实例化这个类，然后我们就得到了Dataset类型的数据，记下来就将这个类传给DataLoader，就可以了。\n",
    "trainDataset = DealDataset('dataset/mnist_dataset', \"train-images-idx3-ubyte.gz\",\"train-labels-idx1-ubyte.gz\",transform=transforms.ToTensor())\n",
    "testDataset = DealDataset('dataset/mnist_dataset', \"t10k-images-idx3-ubyte.gz\",\"t10k-labels-idx1-ubyte.gz\",transform=transforms.ToTensor())\n",
    "\n",
    "print(trainDataset.train_set.shape)\n",
    "print(trainDataset.train_labels.shape)\n",
    "print(testDataset.train_set.shape)\n",
    "print(testDataset.train_labels.shape)\n",
    "\n",
    "train_loader = DataLoader(\n",
    "    dataset=trainDataset,\n",
    "    batch_size=100, # 一个批次可以认为是一个包，每个包中含有100张图片\n",
    "    shuffle=False,\n",
    ")\n",
    "\n",
    "test_loader = DataLoader(\n",
    "    dataset=testDataset,\n",
    "    batch_size=100,\n",
    "    shuffle=False,\n",
    ")"
   ]
  },
  {
   "cell_type": "code",
   "execution_count": 9,
   "metadata": {},
   "outputs": [
    {
     "name": "stdout",
     "output_type": "stream",
     "text": [
      "60000\n",
      "10000\n"
     ]
    }
   ],
   "source": [
    "print(len(trainDataset))\n",
    "print(len(testDataset))"
   ]
  },
  {
   "cell_type": "code",
   "execution_count": 10,
   "metadata": {},
   "outputs": [],
   "source": [
    "def split_and_shuffle_labels(y_data, seed, amount):\n",
    "    y_data=pd.DataFrame(y_data,columns=[\"labels\"])\n",
    "    #DataFrame 数据帧，输入数据Y_data,列为一列，且标签为labels\n",
    "    y_data[\"i\"]=np.arange(len(y_data))\n",
    "    #创建等差数列，相当于再加一列\n",
    "    label_dict = dict()\n",
    "    for i in range(10):\n",
    "        var_name=\"label\" + str(i)\n",
    "        label_info=y_data[y_data[\"labels\"]==i]\n",
    "        #选择该类的行\n",
    "        np.random.seed(seed)\n",
    "        label_info=np.random.permutation(label_info)\n",
    "        #对该类的所有数据进行随机打乱\n",
    "        label_info=label_info[0:amount]\n",
    "        #根据参数选择前amount个\n",
    "        label_info=pd.DataFrame(label_info, columns=[\"labels\",\"i\"])\n",
    "        #重新更新label_info\n",
    "        label_dict.update({var_name: label_info })\n",
    "        #讲该类选择的数据加入字典中\n",
    "    return label_dict"
   ]
  },
  {
   "cell_type": "code",
   "execution_count": 11,
   "metadata": {},
   "outputs": [],
   "source": [
    "def get_iid_subsamples_indices(label_dict, number_of_samples, amount):\n",
    "    #旨在为每个节点划分iid数据\n",
    "    #number_of_samples:节点个数\n",
    "    #amount 总量；\n",
    "    #batch_size 每个节点应该拥有的数据量\n",
    "    sample_dict= dict()\n",
    "    batch_size=int(math.floor(amount/number_of_samples))\n",
    "    for i in range(number_of_samples):\n",
    "        sample_name=\"sample\"+str(i)\n",
    "        dumb=pd.DataFrame()\n",
    "        for j in range(10):\n",
    "            label_name=str(\"label\")+str(j)\n",
    "            a=label_dict[label_name][i*batch_size:(i+1)*batch_size]\n",
    "            dumb=pd.concat([dumb,a], axis=0)\n",
    "            #每一类数据进行拼接\n",
    "        dumb.reset_index(drop=True, inplace=True)\n",
    "        #单机样本重排序\n",
    "        sample_dict.update({sample_name: dumb}) \n",
    "    return sample_dict"
   ]
  },
  {
   "cell_type": "code",
   "execution_count": 12,
   "metadata": {},
   "outputs": [],
   "source": [
    "def create_iid_subsamples(sample_dict, x_data, y_data, x_name, y_name):\n",
    "    #主要目的，对每个节点进行随即后索引分配，分配完之后进行实际数据集分割，每一个节点的实际数据构成一个节点数据集；\n",
    "    x_data_dict= dict()\n",
    "    y_data_dict= dict()\n",
    "    \n",
    "    for i in range(len(sample_dict)):  \n",
    "        xname= x_name+str(i)\n",
    "        yname= y_name+str(i)\n",
    "        sample_name=\"sample\"+str(i)\n",
    "        #遍历每个节点中的数据\n",
    "        indices=np.sort(np.array(sample_dict[sample_name][\"i\"]))\n",
    "        #print(indices)\n",
    "        x_info= x_data[indices,:]\n",
    "        x_data_dict.update({xname : x_info})\n",
    "        \n",
    "        y_info= y_data[indices]\n",
    "        y_info\n",
    "        y_data_dict.update({yname : y_info})\n",
    "        \n",
    "    return x_data_dict, y_data_dict"
   ]
  },
  {
   "attachments": {
    "image.png": {
     "image/png": "[encoded data removed]"
    }
   },
   "cell_type": "markdown",
   "metadata": {},
   "source": [
    "![image.png](attachment:image.png)"
   ]
  },
  {
   "cell_type": "raw",
   "metadata": {},
   "source": [
    "_______________________________________________________________________________________________________\n",
    "分类模型"
   ]
  },
  {
   "cell_type": "code",
   "execution_count": 13,
   "metadata": {},
   "outputs": [],
   "source": [
    "class Net2nn(nn.Module):\n",
    "    def __init__(self):\n",
    "        super(Net2nn,self).__init__()\n",
    "        self.fc1=nn.Linear(784,200)\n",
    "        self.fc2=nn.Linear(200,200)\n",
    "        self.fc3=nn.Linear(200,10)\n",
    "    \n",
    "    def forward(self,x):\n",
    "        x=F.relu(self.fc1(x))\n",
    "        x=F.relu(self.fc2(x))\n",
    "        x=self.fc3(x)\n",
    "        return x"
   ]
  },
  {
   "cell_type": "code",
   "execution_count": 14,
   "metadata": {},
   "outputs": [],
   "source": [
    "class WrappedDataLoader:\n",
    "    def __init__(self,dl,func):\n",
    "        self.dl=dl\n",
    "        self.func=func\n",
    "    \n",
    "    def __len__(self):\n",
    "        return len(self.dl)\n",
    "    \n",
    "    def __iter__(self):\n",
    "        batches=iter(self.dl)\n",
    "        for b in batches:\n",
    "            yield(self.func(*b))"
   ]
  },
  {
   "cell_type": "code",
   "execution_count": 15,
   "metadata": {},
   "outputs": [],
   "source": [
    "def train(model,train_loader,criterion,optimizer):\n",
    "    #训练部分\n",
    "    model.train()\n",
    "    train_loss=0.0\n",
    "    correct=0\n",
    "    \n",
    "    for data,target in train_loader:\n",
    "        optimizer.zero_grad()\n",
    "        output=model(data.float())\n",
    "        loss=criterion(output,target.long())\n",
    "        loss.backward()\n",
    "        optimizer.step()\n",
    "        train_loss += loss.item()\n",
    "        prediction = output.argmax(dim=1, keepdim=True)\n",
    "        correct += prediction.eq(target.view_as(prediction)).sum().item()\n",
    "        #print(loss.item())\n",
    "    return train_loss / len(train_loader), correct/len(train_loader.dataset)     "
   ]
  },
  {
   "cell_type": "code",
   "execution_count": 16,
   "metadata": {},
   "outputs": [],
   "source": [
    "def validation(model, test_loader, criterion):\n",
    "    #验证部分\n",
    "    model.eval()\n",
    "    test_loss = 0.0\n",
    "    correct = 0\n",
    "    with torch.no_grad():\n",
    "        for data, target in test_loader:\n",
    "            output = model(data.float())\n",
    "            \n",
    "            test_loss += criterion(output, target.long()).item()\n",
    "            prediction = output.argmax(dim=1, keepdim=True)\n",
    "            correct += prediction.eq(target.view_as(prediction)).sum().item()\n",
    "\n",
    "    test_loss /= len(test_loader)\n",
    "    correct /= len(test_loader.dataset)\n",
    "\n",
    "    return (test_loss, correct)"
   ]
  },
  {
   "cell_type": "raw",
   "metadata": {},
   "source": [
    "FedAvg 相关函数"
   ]
  },
  {
   "cell_type": "code",
   "execution_count": 17,
   "metadata": {},
   "outputs": [],
   "source": [
    "def create_model_optimizer_criterion_dict(number_of_samples):\n",
    "    #为每个节点创建基本模型，整体保存为model_dict、optimizer_dict、criterion_dict以节点名为键\n",
    "    model_dict = dict()\n",
    "    optimizer_dict= dict()\n",
    "    criterion_dict = dict()\n",
    "    \n",
    "    for i in range(number_of_samples):\n",
    "        model_name=\"model\"+str(i)\n",
    "        model_info=Net2nn()\n",
    "        model_dict.update({model_name : model_info })\n",
    "        \n",
    "        optimizer_name=\"optimizer\"+str(i)\n",
    "        optimizer_info = torch.optim.Adam(model_info.parameters(), lr=0.001)\n",
    "        optimizer_dict.update({optimizer_name : optimizer_info })\n",
    "        \n",
    "        criterion_name = \"criterion\"+str(i)\n",
    "        criterion_info = nn.CrossEntropyLoss()\n",
    "        criterion_dict.update({criterion_name : criterion_info})\n",
    "        \n",
    "    return model_dict, optimizer_dict, criterion_dict"
   ]
  },
  {
   "cell_type": "code",
   "execution_count": 18,
   "metadata": {},
   "outputs": [],
   "source": [
    "def get_averaged_weights(model_dict, number_of_samples):\n",
    "    #服务器节点平均函数，直接对模型各个层参数进行整体平均\n",
    "    fc1_mean_weight = torch.zeros(size=model_dict[name_of_models[0]].fc1.weight.shape)\n",
    "    fc1_mean_bias = torch.zeros(size=model_dict[name_of_models[0]].fc1.bias.shape)\n",
    "    \n",
    "    fc2_mean_weight = torch.zeros(size=model_dict[name_of_models[0]].fc2.weight.shape)\n",
    "    fc2_mean_bias = torch.zeros(size=model_dict[name_of_models[0]].fc2.bias.shape)\n",
    "    \n",
    "    fc3_mean_weight = torch.zeros(size=model_dict[name_of_models[0]].fc3.weight.shape)\n",
    "    fc3_mean_bias = torch.zeros(size=model_dict[name_of_models[0]].fc3.bias.shape)\n",
    "    \n",
    "    with torch.no_grad():\n",
    "    \n",
    "    \n",
    "        for i in range(number_of_samples):\n",
    "            fc1_mean_weight += model_dict[name_of_models[i]].fc1.weight.data.clone()\n",
    "            fc1_mean_bias += model_dict[name_of_models[i]].fc1.bias.data.clone()\n",
    "        \n",
    "            fc2_mean_weight += model_dict[name_of_models[i]].fc2.weight.data.clone()\n",
    "            fc2_mean_bias += model_dict[name_of_models[i]].fc2.bias.data.clone()\n",
    "        \n",
    "            fc3_mean_weight += model_dict[name_of_models[i]].fc3.weight.data.clone()\n",
    "            fc3_mean_bias += model_dict[name_of_models[i]].fc3.bias.data.clone()\n",
    "\n",
    "        \n",
    "        fc1_mean_weight =fc1_mean_weight/number_of_samples\n",
    "        fc1_mean_bias = fc1_mean_bias/ number_of_samples\n",
    "    \n",
    "        fc2_mean_weight =fc2_mean_weight/number_of_samples\n",
    "        fc2_mean_bias = fc2_mean_bias/ number_of_samples\n",
    "    \n",
    "        fc3_mean_weight =fc3_mean_weight/number_of_samples\n",
    "        fc3_mean_bias = fc3_mean_bias/ number_of_samples\n",
    "    \n",
    "    return fc1_mean_weight, fc1_mean_bias, fc2_mean_weight, fc2_mean_bias, fc3_mean_weight, fc3_mean_bias"
   ]
  },
  {
   "cell_type": "code",
   "execution_count": 19,
   "metadata": {},
   "outputs": [],
   "source": [
    "def set_averaged_weights_as_main_model_weights_and_update_main_model(main_model,model_dict, number_of_samples):\n",
    "    #云服务器模型更新为平均后的模型\n",
    "    fc1_mean_weight, fc1_mean_bias, fc2_mean_weight, fc2_mean_bias, fc3_mean_weight, fc3_mean_bias = get_averaged_weights(model_dict, number_of_samples=number_of_samples)\n",
    "    with torch.no_grad():\n",
    "        main_model.fc1.weight.data = fc1_mean_weight.data.clone()\n",
    "        main_model.fc2.weight.data = fc2_mean_weight.data.clone()\n",
    "        main_model.fc3.weight.data = fc3_mean_weight.data.clone()\n",
    "\n",
    "        main_model.fc1.bias.data = fc1_mean_bias.data.clone()\n",
    "        main_model.fc2.bias.data = fc2_mean_bias.data.clone()\n",
    "        main_model.fc3.bias.data = fc3_mean_bias.data.clone() \n",
    "    return main_model"
   ]
  },
  {
   "cell_type": "code",
   "execution_count": 20,
   "metadata": {},
   "outputs": [],
   "source": [
    "def compare_local_and_merged_model_performance(number_of_samples):\n",
    "    accuracy_table=pd.DataFrame(data=np.zeros((number_of_samples,3)), columns=[\"sample\", \"local_ind_model\", \"merged_main_model\"])\n",
    "    for i in range (number_of_samples):\n",
    "    \n",
    "        test_ds = TensorDataset(x_test_dict[name_of_x_test_sets[i]], y_test_dict[name_of_y_test_sets[i]])\n",
    "        #test_ds相当于把零散的数据标签/图片数据集拼接为整个数据集，整体tensor为二维矩阵[图片，标签]；\n",
    "        test_dl = DataLoader(test_ds, batch_size=batch_size * 2)\n",
    "        #使用dataloader进行加载，进行数据分批，每次为batch_size个数据；\n",
    "        model=model_dict[name_of_models[i]]\n",
    "        criterion=criterion_dict[name_of_criterions[i]]\n",
    "        optimizer=optimizer_dict[name_of_optimizers[i]]\n",
    "    \n",
    "        individual_loss, individual_accuracy = validation(model, test_dl, criterion)\n",
    "        main_loss, main_accuracy =validation(main_model, test_dl, main_criterion )\n",
    "    \n",
    "        accuracy_table.loc[i, \"sample\"]=\"sample \"+str(i)\n",
    "        accuracy_table.loc[i, \"local_ind_model\"] = individual_accuracy\n",
    "        accuracy_table.loc[i, \"merged_main_model\"] = main_accuracy\n",
    "\n",
    "    return accuracy_table"
   ]
  },
  {
   "cell_type": "code",
   "execution_count": 21,
   "metadata": {},
   "outputs": [],
   "source": [
    "def send_main_model_to_nodes_and_update_model_dict(main_model, model_dict, number_of_samples):\n",
    "    #对各个节点局部模型进行平均\n",
    "    with torch.no_grad():\n",
    "        for i in range(number_of_samples):\n",
    "\n",
    "            model_dict[name_of_models[i]].fc1.weight.data =main_model.fc1.weight.data.clone()\n",
    "            model_dict[name_of_models[i]].fc2.weight.data =main_model.fc2.weight.data.clone()\n",
    "            model_dict[name_of_models[i]].fc3.weight.data =main_model.fc3.weight.data.clone() \n",
    "            \n",
    "            model_dict[name_of_models[i]].fc1.bias.data =main_model.fc1.bias.data.clone()\n",
    "            model_dict[name_of_models[i]].fc2.bias.data =main_model.fc2.bias.data.clone()\n",
    "            model_dict[name_of_models[i]].fc3.bias.data =main_model.fc3.bias.data.clone() \n",
    "    \n",
    "    return model_dict"
   ]
  },
  {
   "cell_type": "code",
   "execution_count": 22,
   "metadata": {},
   "outputs": [],
   "source": [
    "def start_train_end_node_process(number_of_samples):\n",
    "    #针对于每个节点，进行模型本地epch个轮次训练\n",
    "    for i in range (number_of_samples): \n",
    "        train_ds = TensorDataset(x_train_dict[name_of_x_train_sets[i]], y_train_dict[name_of_y_train_sets[i]])\n",
    "        train_dl = DataLoader(train_ds, batch_size=batch_size, shuffle=True)\n",
    "\n",
    "#         valid_ds = TensorDataset(x_valid_dict[name_of_x_valid_sets[i]], y_valid_dict[name_of_y_valid_sets[i]])\n",
    "#         valid_dl = DataLoader(valid_ds, batch_size=batch_size * 2)\n",
    "        \n",
    "        test_ds = TensorDataset(x_test_dict[name_of_x_test_sets[i]], y_test_dict[name_of_y_test_sets[i]])\n",
    "        test_dl = DataLoader(test_ds, batch_size= batch_size * 2)\n",
    "    \n",
    "        model=model_dict[name_of_models[i]]\n",
    "        criterion=criterion_dict[name_of_criterions[i]]\n",
    "        optimizer=optimizer_dict[name_of_optimizers[i]]\n",
    "    \n",
    "        print(\"Subset\" ,i)\n",
    "        for epoch in range(numEpoch):        \n",
    "            train_loss, train_accuracy = train(model, train_dl, criterion, optimizer)\n",
    "#             valid_loss, valid_accuracy = validation(model, valid_dl, criterion)\n",
    "            test_loss, test_accuracy = validation(model, test_dl, criterion)\n",
    "    \n",
    "            print(\"epoch: {:3.0f}\".format(epoch+1) + \" | train accuracy: {:7.5f}\".format(train_accuracy) + \" | test accuracy: {:7.5f}\".format(test_accuracy))"
   ]
  },
  {
   "cell_type": "code",
   "execution_count": 23,
   "metadata": {},
   "outputs": [],
   "source": [
    "def start_train_end_node_process_without_print(number_of_samples):\n",
    "    #没有输出日志的本地节点训练\n",
    "    for i in range (number_of_samples): \n",
    "\n",
    "        train_ds = TensorDataset(x_train_dict[name_of_x_train_sets[i]], y_train_dict[name_of_y_train_sets[i]])\n",
    "        train_dl = DataLoader(train_ds, batch_size=batch_size, shuffle=True)\n",
    "\n",
    "        test_ds = TensorDataset(x_test_dict[name_of_x_test_sets[i]], y_test_dict[name_of_y_test_sets[i]])\n",
    "        test_dl = DataLoader(test_ds, batch_size= batch_size * 2)\n",
    "    \n",
    "        model=model_dict[name_of_models[i]]\n",
    "        #print(next(model.parameters()).device)\n",
    "        criterion=criterion_dict[name_of_criterions[i]]\n",
    "        optimizer=optimizer_dict[name_of_optimizers[i]]\n",
    "    \n",
    "        for epoch in range(numEpoch):        \n",
    "            train_loss, train_accuracy = train(model, train_dl, criterion, optimizer)\n",
    "            test_loss, test_accuracy = validation(model, test_dl, criterion)"
   ]
  },
  {
   "cell_type": "code",
   "execution_count": 24,
   "metadata": {},
   "outputs": [],
   "source": [
    "def start_train_end_node_process_print_some(number_of_samples, print_amount):\n",
    "    #仍然是本地节点训练，进行部分信息输出；\n",
    "    for i in range (number_of_samples): \n",
    "\n",
    "        train_ds = TensorDataset(x_train_dict[name_of_x_train_sets[i]], y_train_dict[name_of_y_train_sets[i]])\n",
    "        train_dl = DataLoader(train_ds, batch_size=batch_size, shuffle=True)\n",
    "\n",
    "        test_ds = TensorDataset(x_test_dict[name_of_x_test_sets[i]], y_test_dict[name_of_y_test_sets[i]])\n",
    "        test_dl = DataLoader(test_ds, batch_size= batch_size * 2)\n",
    "    \n",
    "        model=model_dict[name_of_models[i]]\n",
    "        criterion=criterion_dict[name_of_criterions[i]]\n",
    "        optimizer=optimizer_dict[name_of_optimizers[i]]\n",
    "    \n",
    "        if i<print_amount:\n",
    "            print(\"Subset\" ,i)\n",
    "            \n",
    "        for epoch in range(numEpoch):\n",
    "        \n",
    "            train_loss, train_accuracy = train(model, train_dl, criterion, optimizer)\n",
    "            test_loss, test_accuracy = validation(model, test_dl, criterion)\n",
    "            \n",
    "            if i<print_amount:        \n",
    "                print(\"epoch: {:3.0f}\".format(epoch+1) + \" | train accuracy: {:7.5f}\".format(train_accuracy) + \" | test accuracy: {:7.5f}\".format(test_accuracy))"
   ]
  },
  {
   "cell_type": "code",
   "execution_count": 25,
   "metadata": {},
   "outputs": [
    {
     "name": "stderr",
     "output_type": "stream",
     "text": [
      "<ipython-input-25-b0261fe0b0ed>:1: UserWarning: The given NumPy array is not writeable, and PyTorch does not support non-writeable tensors. This means you can write to the underlying (supposedly non-writeable) NumPy array using the tensor. You may want to copy the array to protect its data or make it writeable before converting it to a tensor. This type of warning will be suppressed for the rest of this program. (Triggered internally at  ..\\torch\\csrc\\utils\\tensor_numpy.cpp:141.)\n",
      "  x_train=torch.tensor(trainDataset.train_set)\n"
     ]
    }
   ],
   "source": [
    "x_train=torch.tensor(trainDataset.train_set)\n",
    "y_train=torch.tensor(trainDataset.train_labels)\n",
    "x_test=torch.tensor(testDataset.train_set)\n",
    "y_test=torch.tensor(testDataset.train_labels)\n",
    "#x_train=DeviceDataLoader(x_train,device)\n",
    "#y_train=DeviceDataLoader(y_train,device)\n",
    "#x_test=DeviceDataLoader(x_test,device)\n",
    "#y_test=DeviceDataLoader(y_test,device)\n",
    "\n",
    "#_train, y_train,x_test, y_test = map(torch.tensor, (x_train, y_train, x_test, y_test))\n",
    "#Python map针对于第二参数列表，调用参数一函数\n",
    "number_of_samples=100\n",
    "learning_rate = 0.01\n",
    "numEpoch = 20\n",
    "batch_size = 32\n",
    "momentum = 0.9\n",
    "\n",
    "train_amount=4500\n",
    "valid_amount=900\n",
    "test_amount=900\n",
    "print_amount=3"
   ]
  },
  {
   "cell_type": "raw",
   "metadata": {},
   "source": [
    "——————————————————————————————————————进行集中模型训练———————————————————————————————————"
   ]
  },
  {
   "cell_type": "code",
   "execution_count": null,
   "metadata": {},
   "outputs": [],
   "source": [
    "centralized_model = Net2nn()\n",
    "centralized_optimizer = torch.optim.Adam(centralized_model.parameters(), lr=0.001)\n",
    "centralized_criterion = nn.CrossEntropyLoss()"
   ]
  },
  {
   "cell_type": "code",
   "execution_count": 33,
   "metadata": {},
   "outputs": [],
   "source": [
    "#进行训练集分批和合并\n",
    "train_ds = TensorDataset(x_train, y_train)\n",
    "train_dl = DataLoader(train_ds, batch_size=batch_size, shuffle=True)\n",
    "test_ds = TensorDataset(x_test, y_test)\n",
    "test_dl = DataLoader(test_ds, batch_size=batch_size * 2)"
   ]
  },
  {
   "cell_type": "code",
   "execution_count": null,
   "metadata": {},
   "outputs": [],
   "source": [
    "print(\"------ 单模型、全数据集单节点训练 ------\")\n",
    "for epoch in range(numEpoch):\n",
    "    central_train_loss, central_train_accuracy = train(centralized_model, train_dl, centralized_criterion, centralized_optimizer)\n",
    "    central_test_loss, central_test_accuracy = validation(centralized_model, test_dl, centralized_criterion)\n",
    "    \n",
    "    print(\"epoch: {:3.0f}\".format(epoch+1) +\" | train loss: {:7.4f}\".format(central_train_loss)+ \" | train accuracy: {:7.4f}\".format(central_train_accuracy) + \" | test accuracy: {:7.4f}\".format(central_test_accuracy))\n",
    "\n",
    "print(\"------ Training finished ------\")"
   ]
  },
  {
   "cell_type": "raw",
   "metadata": {},
   "source": [
    "——————————联邦学习环境下——————————————"
   ]
  },
  {
   "cell_type": "code",
   "execution_count": 26,
   "metadata": {},
   "outputs": [],
   "source": [
    "#根据之前定义的样本分割函数，进行各个节点的数据样本分割，分割形式为iid形式\n",
    "label_dict_train=split_and_shuffle_labels(y_data=y_train, seed=1, amount=train_amount) \n",
    "sample_dict_train=get_iid_subsamples_indices(label_dict=label_dict_train, number_of_samples=number_of_samples, amount=train_amount)\n",
    "x_train_dict, y_train_dict = create_iid_subsamples(sample_dict=sample_dict_train, x_data=x_train, y_data=y_train, x_name=\"x_train\", y_name=\"y_train\")\n",
    "\n",
    "label_dict_test = split_and_shuffle_labels(y_data=y_test, seed=1, amount=test_amount) \n",
    "sample_dict_test = get_iid_subsamples_indices(label_dict=label_dict_test, number_of_samples=number_of_samples, amount=test_amount)\n",
    "x_test_dict, y_test_dict = create_iid_subsamples(sample_dict=sample_dict_test, x_data=x_test, y_data=y_test, x_name=\"x_test\", y_name=\"y_test\")"
   ]
  },
  {
   "cell_type": "code",
   "execution_count": 27,
   "metadata": {},
   "outputs": [],
   "source": [
    "#主要模型\n",
    "main_model = Net2nn()\n",
    "main_optimizer = torch.optim.Adam(main_model.parameters(), lr=0.001)\n",
    "main_criterion = nn.CrossEntropyLoss()"
   ]
  },
  {
   "cell_type": "code",
   "execution_count": 28,
   "metadata": {},
   "outputs": [],
   "source": [
    "#对100个节点进行初始化，构造相应的优化器模型等；\n",
    "model_dict, optimizer_dict, criterion_dict = create_model_optimizer_criterion_dict(number_of_samples)"
   ]
  },
  {
   "cell_type": "code",
   "execution_count": 29,
   "metadata": {},
   "outputs": [],
   "source": [
    "#获得所有集合名字\n",
    "name_of_x_train_sets=list(x_train_dict.keys())\n",
    "name_of_y_train_sets=list(y_train_dict.keys())\n",
    "name_of_x_test_sets=list(x_test_dict.keys())\n",
    "name_of_y_test_sets=list(y_test_dict.keys())\n",
    "\n",
    "name_of_models=list(model_dict.keys())\n",
    "name_of_optimizers=list(optimizer_dict.keys())\n",
    "name_of_criterions=list(criterion_dict.keys())"
   ]
  },
  {
   "cell_type": "code",
   "execution_count": 30,
   "metadata": {},
   "outputs": [],
   "source": [
    "model_dict=send_main_model_to_nodes_and_update_model_dict(main_model, model_dict, numEpoch)"
   ]
  },
  {
   "cell_type": "code",
   "execution_count": 31,
   "metadata": {},
   "outputs": [
    {
     "name": "stdout",
     "output_type": "stream",
     "text": [
      "Subset 0\n",
      "epoch:   1 | train accuracy: 0.44667 | test accuracy: 0.66667\n",
      "epoch:   2 | train accuracy: 0.81111 | test accuracy: 0.73333\n",
      "epoch:   3 | train accuracy: 0.90667 | test accuracy: 0.78889\n",
      "epoch:   4 | train accuracy: 0.95556 | test accuracy: 0.85556\n",
      "epoch:   5 | train accuracy: 0.96889 | test accuracy: 0.82222\n",
      "epoch:   6 | train accuracy: 0.99111 | test accuracy: 0.88889\n",
      "epoch:   7 | train accuracy: 0.99778 | test accuracy: 0.86667\n",
      "epoch:   8 | train accuracy: 1.00000 | test accuracy: 0.88889\n",
      "epoch:   9 | train accuracy: 1.00000 | test accuracy: 0.86667\n",
      "epoch:  10 | train accuracy: 1.00000 | test accuracy: 0.87778\n",
      "epoch:  11 | train accuracy: 1.00000 | test accuracy: 0.87778\n",
      "epoch:  12 | train accuracy: 1.00000 | test accuracy: 0.87778\n",
      "epoch:  13 | train accuracy: 1.00000 | test accuracy: 0.87778\n",
      "epoch:  14 | train accuracy: 1.00000 | test accuracy: 0.87778\n",
      "epoch:  15 | train accuracy: 1.00000 | test accuracy: 0.87778\n",
      "epoch:  16 | train accuracy: 1.00000 | test accuracy: 0.87778\n",
      "epoch:  17 | train accuracy: 1.00000 | test accuracy: 0.87778\n",
      "epoch:  18 | train accuracy: 1.00000 | test accuracy: 0.88889\n",
      "epoch:  19 | train accuracy: 1.00000 | test accuracy: 0.88889\n",
      "epoch:  20 | train accuracy: 1.00000 | test accuracy: 0.86667\n",
      "Subset 1\n",
      "epoch:   1 | train accuracy: 0.45556 | test accuracy: 0.75556\n",
      "epoch:   2 | train accuracy: 0.78667 | test accuracy: 0.74444\n",
      "epoch:   3 | train accuracy: 0.89556 | test accuracy: 0.75556\n",
      "epoch:   4 | train accuracy: 0.97333 | test accuracy: 0.76667\n",
      "epoch:   5 | train accuracy: 0.99333 | test accuracy: 0.78889\n",
      "epoch:   6 | train accuracy: 1.00000 | test accuracy: 0.76667\n",
      "epoch:   7 | train accuracy: 1.00000 | test accuracy: 0.77778\n",
      "epoch:   8 | train accuracy: 1.00000 | test accuracy: 0.75556\n",
      "epoch:   9 | train accuracy: 1.00000 | test accuracy: 0.75556\n",
      "epoch:  10 | train accuracy: 1.00000 | test accuracy: 0.75556\n",
      "epoch:  11 | train accuracy: 1.00000 | test accuracy: 0.75556\n",
      "epoch:  12 | train accuracy: 1.00000 | test accuracy: 0.75556\n",
      "epoch:  13 | train accuracy: 1.00000 | test accuracy: 0.75556\n",
      "epoch:  14 | train accuracy: 1.00000 | test accuracy: 0.75556\n",
      "epoch:  15 | train accuracy: 1.00000 | test accuracy: 0.75556\n",
      "epoch:  16 | train accuracy: 1.00000 | test accuracy: 0.75556\n",
      "epoch:  17 | train accuracy: 1.00000 | test accuracy: 0.75556\n",
      "epoch:  18 | train accuracy: 1.00000 | test accuracy: 0.75556\n",
      "epoch:  19 | train accuracy: 1.00000 | test accuracy: 0.75556\n",
      "epoch:  20 | train accuracy: 1.00000 | test accuracy: 0.76667\n",
      "Subset 2\n",
      "epoch:   1 | train accuracy: 0.48667 | test accuracy: 0.75556\n",
      "epoch:   2 | train accuracy: 0.86222 | test accuracy: 0.66667\n",
      "epoch:   3 | train accuracy: 0.87556 | test accuracy: 0.75556\n",
      "epoch:   4 | train accuracy: 0.95556 | test accuracy: 0.78889\n",
      "epoch:   5 | train accuracy: 0.98444 | test accuracy: 0.81111\n",
      "epoch:   6 | train accuracy: 0.99556 | test accuracy: 0.80000\n",
      "epoch:   7 | train accuracy: 1.00000 | test accuracy: 0.80000\n",
      "epoch:   8 | train accuracy: 1.00000 | test accuracy: 0.80000\n",
      "epoch:   9 | train accuracy: 1.00000 | test accuracy: 0.82222\n",
      "epoch:  10 | train accuracy: 1.00000 | test accuracy: 0.83333\n",
      "epoch:  11 | train accuracy: 1.00000 | test accuracy: 0.84444\n",
      "epoch:  12 | train accuracy: 1.00000 | test accuracy: 0.84444\n",
      "epoch:  13 | train accuracy: 1.00000 | test accuracy: 0.84444\n",
      "epoch:  14 | train accuracy: 1.00000 | test accuracy: 0.84444\n",
      "epoch:  15 | train accuracy: 1.00000 | test accuracy: 0.84444\n",
      "epoch:  16 | train accuracy: 1.00000 | test accuracy: 0.84444\n",
      "epoch:  17 | train accuracy: 1.00000 | test accuracy: 0.84444\n",
      "epoch:  18 | train accuracy: 1.00000 | test accuracy: 0.84444\n",
      "epoch:  19 | train accuracy: 1.00000 | test accuracy: 0.84444\n",
      "epoch:  20 | train accuracy: 1.00000 | test accuracy: 0.84444\n",
      "Subset 3\n",
      "epoch:   1 | train accuracy: 0.38222 | test accuracy: 0.62222\n",
      "epoch:   2 | train accuracy: 0.78889 | test accuracy: 0.74444\n",
      "epoch:   3 | train accuracy: 0.91111 | test accuracy: 0.83333\n",
      "epoch:   4 | train accuracy: 0.94000 | test accuracy: 0.76667\n",
      "epoch:   5 | train accuracy: 0.98222 | test accuracy: 0.82222\n",
      "epoch:   6 | train accuracy: 0.99778 | test accuracy: 0.81111\n",
      "epoch:   7 | train accuracy: 1.00000 | test accuracy: 0.81111\n",
      "epoch:   8 | train accuracy: 1.00000 | test accuracy: 0.83333\n",
      "epoch:   9 | train accuracy: 1.00000 | test accuracy: 0.83333\n",
      "epoch:  10 | train accuracy: 1.00000 | test accuracy: 0.83333\n",
      "epoch:  11 | train accuracy: 1.00000 | test accuracy: 0.83333\n",
      "epoch:  12 | train accuracy: 1.00000 | test accuracy: 0.83333\n",
      "epoch:  13 | train accuracy: 1.00000 | test accuracy: 0.83333\n",
      "epoch:  14 | train accuracy: 1.00000 | test accuracy: 0.83333\n",
      "epoch:  15 | train accuracy: 1.00000 | test accuracy: 0.83333\n",
      "epoch:  16 | train accuracy: 1.00000 | test accuracy: 0.82222\n",
      "epoch:  17 | train accuracy: 1.00000 | test accuracy: 0.82222\n",
      "epoch:  18 | train accuracy: 1.00000 | test accuracy: 0.82222\n",
      "epoch:  19 | train accuracy: 1.00000 | test accuracy: 0.82222\n",
      "epoch:  20 | train accuracy: 1.00000 | test accuracy: 0.82222\n",
      "Subset 4\n",
      "epoch:   1 | train accuracy: 0.41556 | test accuracy: 0.72222\n",
      "epoch:   2 | train accuracy: 0.83333 | test accuracy: 0.78889\n",
      "epoch:   3 | train accuracy: 0.92222 | test accuracy: 0.81111\n",
      "epoch:   4 | train accuracy: 0.97556 | test accuracy: 0.80000\n",
      "epoch:   5 | train accuracy: 0.99556 | test accuracy: 0.86667\n",
      "epoch:   6 | train accuracy: 1.00000 | test accuracy: 0.84444\n",
      "epoch:   7 | train accuracy: 1.00000 | test accuracy: 0.85556\n",
      "epoch:   8 | train accuracy: 1.00000 | test accuracy: 0.85556\n",
      "epoch:   9 | train accuracy: 1.00000 | test accuracy: 0.86667\n",
      "epoch:  10 | train accuracy: 1.00000 | test accuracy: 0.86667\n",
      "epoch:  11 | train accuracy: 1.00000 | test accuracy: 0.86667\n",
      "epoch:  12 | train accuracy: 1.00000 | test accuracy: 0.86667\n",
      "epoch:  13 | train accuracy: 1.00000 | test accuracy: 0.86667\n",
      "epoch:  14 | train accuracy: 1.00000 | test accuracy: 0.86667\n",
      "epoch:  15 | train accuracy: 1.00000 | test accuracy: 0.87778\n",
      "epoch:  16 | train accuracy: 1.00000 | test accuracy: 0.86667\n",
      "epoch:  17 | train accuracy: 1.00000 | test accuracy: 0.86667\n",
      "epoch:  18 | train accuracy: 1.00000 | test accuracy: 0.87778\n",
      "epoch:  19 | train accuracy: 1.00000 | test accuracy: 0.87778\n",
      "epoch:  20 | train accuracy: 1.00000 | test accuracy: 0.87778\n",
      "Subset 5\n",
      "epoch:   1 | train accuracy: 0.44667 | test accuracy: 0.65556\n",
      "epoch:   2 | train accuracy: 0.81111 | test accuracy: 0.87778\n",
      "epoch:   3 | train accuracy: 0.95111 | test accuracy: 0.85556\n",
      "epoch:   4 | train accuracy: 0.98889 | test accuracy: 0.88889\n",
      "epoch:   5 | train accuracy: 0.99778 | test accuracy: 0.88889\n",
      "epoch:   6 | train accuracy: 0.99778 | test accuracy: 0.88889\n",
      "epoch:   7 | train accuracy: 1.00000 | test accuracy: 0.87778\n",
      "epoch:   8 | train accuracy: 1.00000 | test accuracy: 0.87778\n",
      "epoch:   9 | train accuracy: 1.00000 | test accuracy: 0.88889\n",
      "epoch:  10 | train accuracy: 1.00000 | test accuracy: 0.88889\n",
      "epoch:  11 | train accuracy: 1.00000 | test accuracy: 0.88889\n",
      "epoch:  12 | train accuracy: 1.00000 | test accuracy: 0.88889\n",
      "epoch:  13 | train accuracy: 1.00000 | test accuracy: 0.88889\n",
      "epoch:  14 | train accuracy: 1.00000 | test accuracy: 0.88889\n",
      "epoch:  15 | train accuracy: 1.00000 | test accuracy: 0.88889\n",
      "epoch:  16 | train accuracy: 1.00000 | test accuracy: 0.88889\n",
      "epoch:  17 | train accuracy: 1.00000 | test accuracy: 0.88889\n",
      "epoch:  18 | train accuracy: 1.00000 | test accuracy: 0.88889\n",
      "epoch:  19 | train accuracy: 1.00000 | test accuracy: 0.88889\n",
      "epoch:  20 | train accuracy: 1.00000 | test accuracy: 0.88889\n",
      "Subset 6\n",
      "epoch:   1 | train accuracy: 0.45778 | test accuracy: 0.58889\n",
      "epoch:   2 | train accuracy: 0.79333 | test accuracy: 0.70000\n",
      "epoch:   3 | train accuracy: 0.92222 | test accuracy: 0.71111\n",
      "epoch:   4 | train accuracy: 0.96667 | test accuracy: 0.78889\n",
      "epoch:   5 | train accuracy: 0.98889 | test accuracy: 0.81111\n",
      "epoch:   6 | train accuracy: 1.00000 | test accuracy: 0.78889\n",
      "epoch:   7 | train accuracy: 1.00000 | test accuracy: 0.80000\n",
      "epoch:   8 | train accuracy: 1.00000 | test accuracy: 0.81111\n",
      "epoch:   9 | train accuracy: 1.00000 | test accuracy: 0.81111\n",
      "epoch:  10 | train accuracy: 1.00000 | test accuracy: 0.81111\n",
      "epoch:  11 | train accuracy: 1.00000 | test accuracy: 0.81111\n",
      "epoch:  12 | train accuracy: 1.00000 | test accuracy: 0.81111\n",
      "epoch:  13 | train accuracy: 1.00000 | test accuracy: 0.81111\n",
      "epoch:  14 | train accuracy: 1.00000 | test accuracy: 0.81111\n"
     ]
    },
    {
     "name": "stdout",
     "output_type": "stream",
     "text": [
      "epoch:  15 | train accuracy: 1.00000 | test accuracy: 0.83333\n",
      "epoch:  16 | train accuracy: 1.00000 | test accuracy: 0.83333\n",
      "epoch:  17 | train accuracy: 1.00000 | test accuracy: 0.83333\n",
      "epoch:  18 | train accuracy: 1.00000 | test accuracy: 0.83333\n",
      "epoch:  19 | train accuracy: 1.00000 | test accuracy: 0.83333\n",
      "epoch:  20 | train accuracy: 1.00000 | test accuracy: 0.83333\n",
      "Subset 7\n",
      "epoch:   1 | train accuracy: 0.50444 | test accuracy: 0.81111\n",
      "epoch:   2 | train accuracy: 0.85333 | test accuracy: 0.88889\n",
      "epoch:   3 | train accuracy: 0.94667 | test accuracy: 0.86667\n",
      "epoch:   4 | train accuracy: 0.98667 | test accuracy: 0.84444\n",
      "epoch:   5 | train accuracy: 0.98889 | test accuracy: 0.87778\n",
      "epoch:   6 | train accuracy: 1.00000 | test accuracy: 0.82222\n"
     ]
    },
    {
     "ename": "KeyboardInterrupt",
     "evalue": "",
     "output_type": "error",
     "traceback": [
      "\u001b[1;31m---------------------------------------------------------------------------\u001b[0m",
      "\u001b[1;31mKeyboardInterrupt\u001b[0m                         Traceback (most recent call last)",
      "\u001b[1;32m<ipython-input-31-e0c16f70a7e0>\u001b[0m in \u001b[0;36m<module>\u001b[1;34m\u001b[0m\n\u001b[1;32m----> 1\u001b[1;33m \u001b[0mstart_train_end_node_process\u001b[0m\u001b[1;33m(\u001b[0m\u001b[0mnumber_of_samples\u001b[0m\u001b[1;33m)\u001b[0m\u001b[1;33m\u001b[0m\u001b[1;33m\u001b[0m\u001b[0m\n\u001b[0m",
      "\u001b[1;32m<ipython-input-22-2f8a069a830e>\u001b[0m in \u001b[0;36mstart_train_end_node_process\u001b[1;34m(number_of_samples)\u001b[0m\n\u001b[0;32m     17\u001b[0m         \u001b[0mprint\u001b[0m\u001b[1;33m(\u001b[0m\u001b[1;34m\"Subset\"\u001b[0m \u001b[1;33m,\u001b[0m\u001b[0mi\u001b[0m\u001b[1;33m)\u001b[0m\u001b[1;33m\u001b[0m\u001b[1;33m\u001b[0m\u001b[0m\n\u001b[0;32m     18\u001b[0m         \u001b[1;32mfor\u001b[0m \u001b[0mepoch\u001b[0m \u001b[1;32min\u001b[0m \u001b[0mrange\u001b[0m\u001b[1;33m(\u001b[0m\u001b[0mnumEpoch\u001b[0m\u001b[1;33m)\u001b[0m\u001b[1;33m:\u001b[0m\u001b[1;33m\u001b[0m\u001b[1;33m\u001b[0m\u001b[0m\n\u001b[1;32m---> 19\u001b[1;33m             \u001b[0mtrain_loss\u001b[0m\u001b[1;33m,\u001b[0m \u001b[0mtrain_accuracy\u001b[0m \u001b[1;33m=\u001b[0m \u001b[0mtrain\u001b[0m\u001b[1;33m(\u001b[0m\u001b[0mmodel\u001b[0m\u001b[1;33m,\u001b[0m \u001b[0mtrain_dl\u001b[0m\u001b[1;33m,\u001b[0m \u001b[0mcriterion\u001b[0m\u001b[1;33m,\u001b[0m \u001b[0moptimizer\u001b[0m\u001b[1;33m)\u001b[0m\u001b[1;33m\u001b[0m\u001b[1;33m\u001b[0m\u001b[0m\n\u001b[0m\u001b[0;32m     20\u001b[0m \u001b[1;31m#             valid_loss, valid_accuracy = validation(model, valid_dl, criterion)\u001b[0m\u001b[1;33m\u001b[0m\u001b[1;33m\u001b[0m\u001b[1;33m\u001b[0m\u001b[0m\n\u001b[0;32m     21\u001b[0m             \u001b[0mtest_loss\u001b[0m\u001b[1;33m,\u001b[0m \u001b[0mtest_accuracy\u001b[0m \u001b[1;33m=\u001b[0m \u001b[0mvalidation\u001b[0m\u001b[1;33m(\u001b[0m\u001b[0mmodel\u001b[0m\u001b[1;33m,\u001b[0m \u001b[0mtest_dl\u001b[0m\u001b[1;33m,\u001b[0m \u001b[0mcriterion\u001b[0m\u001b[1;33m)\u001b[0m\u001b[1;33m\u001b[0m\u001b[1;33m\u001b[0m\u001b[0m\n",
      "\u001b[1;32m<ipython-input-15-423498d5c20a>\u001b[0m in \u001b[0;36mtrain\u001b[1;34m(model, train_loader, criterion, optimizer)\u001b[0m\n\u001b[0;32m      7\u001b[0m     \u001b[1;32mfor\u001b[0m \u001b[0mdata\u001b[0m\u001b[1;33m,\u001b[0m\u001b[0mtarget\u001b[0m \u001b[1;32min\u001b[0m \u001b[0mtrain_loader\u001b[0m\u001b[1;33m:\u001b[0m\u001b[1;33m\u001b[0m\u001b[1;33m\u001b[0m\u001b[0m\n\u001b[0;32m      8\u001b[0m         \u001b[0moptimizer\u001b[0m\u001b[1;33m.\u001b[0m\u001b[0mzero_grad\u001b[0m\u001b[1;33m(\u001b[0m\u001b[1;33m)\u001b[0m\u001b[1;33m\u001b[0m\u001b[1;33m\u001b[0m\u001b[0m\n\u001b[1;32m----> 9\u001b[1;33m         \u001b[0moutput\u001b[0m\u001b[1;33m=\u001b[0m\u001b[0mmodel\u001b[0m\u001b[1;33m(\u001b[0m\u001b[0mdata\u001b[0m\u001b[1;33m.\u001b[0m\u001b[0mfloat\u001b[0m\u001b[1;33m(\u001b[0m\u001b[1;33m)\u001b[0m\u001b[1;33m)\u001b[0m\u001b[1;33m\u001b[0m\u001b[1;33m\u001b[0m\u001b[0m\n\u001b[0m\u001b[0;32m     10\u001b[0m         \u001b[0mloss\u001b[0m\u001b[1;33m=\u001b[0m\u001b[0mcriterion\u001b[0m\u001b[1;33m(\u001b[0m\u001b[0moutput\u001b[0m\u001b[1;33m,\u001b[0m\u001b[0mtarget\u001b[0m\u001b[1;33m.\u001b[0m\u001b[0mlong\u001b[0m\u001b[1;33m(\u001b[0m\u001b[1;33m)\u001b[0m\u001b[1;33m)\u001b[0m\u001b[1;33m\u001b[0m\u001b[1;33m\u001b[0m\u001b[0m\n\u001b[0;32m     11\u001b[0m         \u001b[0mloss\u001b[0m\u001b[1;33m.\u001b[0m\u001b[0mbackward\u001b[0m\u001b[1;33m(\u001b[0m\u001b[1;33m)\u001b[0m\u001b[1;33m\u001b[0m\u001b[1;33m\u001b[0m\u001b[0m\n",
      "\u001b[1;32mD:\\Anconda\\envs\\Py_torch\\lib\\site-packages\\torch\\nn\\modules\\module.py\u001b[0m in \u001b[0;36m_call_impl\u001b[1;34m(self, *input, **kwargs)\u001b[0m\n\u001b[0;32m    720\u001b[0m             \u001b[0mresult\u001b[0m \u001b[1;33m=\u001b[0m \u001b[0mself\u001b[0m\u001b[1;33m.\u001b[0m\u001b[0m_slow_forward\u001b[0m\u001b[1;33m(\u001b[0m\u001b[1;33m*\u001b[0m\u001b[0minput\u001b[0m\u001b[1;33m,\u001b[0m \u001b[1;33m**\u001b[0m\u001b[0mkwargs\u001b[0m\u001b[1;33m)\u001b[0m\u001b[1;33m\u001b[0m\u001b[1;33m\u001b[0m\u001b[0m\n\u001b[0;32m    721\u001b[0m         \u001b[1;32melse\u001b[0m\u001b[1;33m:\u001b[0m\u001b[1;33m\u001b[0m\u001b[1;33m\u001b[0m\u001b[0m\n\u001b[1;32m--> 722\u001b[1;33m             \u001b[0mresult\u001b[0m \u001b[1;33m=\u001b[0m \u001b[0mself\u001b[0m\u001b[1;33m.\u001b[0m\u001b[0mforward\u001b[0m\u001b[1;33m(\u001b[0m\u001b[1;33m*\u001b[0m\u001b[0minput\u001b[0m\u001b[1;33m,\u001b[0m \u001b[1;33m**\u001b[0m\u001b[0mkwargs\u001b[0m\u001b[1;33m)\u001b[0m\u001b[1;33m\u001b[0m\u001b[1;33m\u001b[0m\u001b[0m\n\u001b[0m\u001b[0;32m    723\u001b[0m         for hook in itertools.chain(\n\u001b[0;32m    724\u001b[0m                 \u001b[0m_global_forward_hooks\u001b[0m\u001b[1;33m.\u001b[0m\u001b[0mvalues\u001b[0m\u001b[1;33m(\u001b[0m\u001b[1;33m)\u001b[0m\u001b[1;33m,\u001b[0m\u001b[1;33m\u001b[0m\u001b[1;33m\u001b[0m\u001b[0m\n",
      "\u001b[1;32m<ipython-input-13-151664f88276>\u001b[0m in \u001b[0;36mforward\u001b[1;34m(self, x)\u001b[0m\n\u001b[0;32m      7\u001b[0m \u001b[1;33m\u001b[0m\u001b[0m\n\u001b[0;32m      8\u001b[0m     \u001b[1;32mdef\u001b[0m \u001b[0mforward\u001b[0m\u001b[1;33m(\u001b[0m\u001b[0mself\u001b[0m\u001b[1;33m,\u001b[0m\u001b[0mx\u001b[0m\u001b[1;33m)\u001b[0m\u001b[1;33m:\u001b[0m\u001b[1;33m\u001b[0m\u001b[1;33m\u001b[0m\u001b[0m\n\u001b[1;32m----> 9\u001b[1;33m         \u001b[0mx\u001b[0m\u001b[1;33m=\u001b[0m\u001b[0mF\u001b[0m\u001b[1;33m.\u001b[0m\u001b[0mrelu\u001b[0m\u001b[1;33m(\u001b[0m\u001b[0mself\u001b[0m\u001b[1;33m.\u001b[0m\u001b[0mfc1\u001b[0m\u001b[1;33m(\u001b[0m\u001b[0mx\u001b[0m\u001b[1;33m)\u001b[0m\u001b[1;33m)\u001b[0m\u001b[1;33m\u001b[0m\u001b[1;33m\u001b[0m\u001b[0m\n\u001b[0m\u001b[0;32m     10\u001b[0m         \u001b[0mx\u001b[0m\u001b[1;33m=\u001b[0m\u001b[0mF\u001b[0m\u001b[1;33m.\u001b[0m\u001b[0mrelu\u001b[0m\u001b[1;33m(\u001b[0m\u001b[0mself\u001b[0m\u001b[1;33m.\u001b[0m\u001b[0mfc2\u001b[0m\u001b[1;33m(\u001b[0m\u001b[0mx\u001b[0m\u001b[1;33m)\u001b[0m\u001b[1;33m)\u001b[0m\u001b[1;33m\u001b[0m\u001b[1;33m\u001b[0m\u001b[0m\n\u001b[0;32m     11\u001b[0m         \u001b[0mx\u001b[0m\u001b[1;33m=\u001b[0m\u001b[0mself\u001b[0m\u001b[1;33m.\u001b[0m\u001b[0mfc3\u001b[0m\u001b[1;33m(\u001b[0m\u001b[0mx\u001b[0m\u001b[1;33m)\u001b[0m\u001b[1;33m\u001b[0m\u001b[1;33m\u001b[0m\u001b[0m\n",
      "\u001b[1;32mD:\\Anconda\\envs\\Py_torch\\lib\\site-packages\\torch\\nn\\functional.py\u001b[0m in \u001b[0;36mrelu\u001b[1;34m(input, inplace)\u001b[0m\n\u001b[0;32m   1117\u001b[0m         \u001b[0mresult\u001b[0m \u001b[1;33m=\u001b[0m \u001b[0mtorch\u001b[0m\u001b[1;33m.\u001b[0m\u001b[0mrelu_\u001b[0m\u001b[1;33m(\u001b[0m\u001b[0minput\u001b[0m\u001b[1;33m)\u001b[0m\u001b[1;33m\u001b[0m\u001b[1;33m\u001b[0m\u001b[0m\n\u001b[0;32m   1118\u001b[0m     \u001b[1;32melse\u001b[0m\u001b[1;33m:\u001b[0m\u001b[1;33m\u001b[0m\u001b[1;33m\u001b[0m\u001b[0m\n\u001b[1;32m-> 1119\u001b[1;33m         \u001b[0mresult\u001b[0m \u001b[1;33m=\u001b[0m \u001b[0mtorch\u001b[0m\u001b[1;33m.\u001b[0m\u001b[0mrelu\u001b[0m\u001b[1;33m(\u001b[0m\u001b[0minput\u001b[0m\u001b[1;33m)\u001b[0m\u001b[1;33m\u001b[0m\u001b[1;33m\u001b[0m\u001b[0m\n\u001b[0m\u001b[0;32m   1120\u001b[0m     \u001b[1;32mreturn\u001b[0m \u001b[0mresult\u001b[0m\u001b[1;33m\u001b[0m\u001b[1;33m\u001b[0m\u001b[0m\n\u001b[0;32m   1121\u001b[0m \u001b[1;33m\u001b[0m\u001b[0m\n",
      "\u001b[1;31mKeyboardInterrupt\u001b[0m: "
     ]
    }
   ],
   "source": [
    "start_train_end_node_process(number_of_samples)"
   ]
  },
  {
   "cell_type": "code",
   "execution_count": 34,
   "metadata": {},
   "outputs": [
    {
     "name": "stdout",
     "output_type": "stream",
     "text": [
      "Iteration 2 : main_model accuracy on all test data:  0.9126\n",
      "Iteration 3 : main_model accuracy on all test data:  0.9281\n",
      "Iteration 4 : main_model accuracy on all test data:  0.9363\n",
      "Iteration 5 : main_model accuracy on all test data:  0.9410\n",
      "Iteration 6 : main_model accuracy on all test data:  0.9442\n"
     ]
    }
   ],
   "source": [
    "for i in range(5):\n",
    "    model_dict=send_main_model_to_nodes_and_update_model_dict(main_model, model_dict, number_of_samples)\n",
    "    start_train_end_node_process_without_print(number_of_samples)\n",
    "    main_model= set_averaged_weights_as_main_model_weights_and_update_main_model(main_model,model_dict, number_of_samples) \n",
    "    test_loss, test_accuracy = validation(main_model, test_dl, main_criterion)\n",
    "    print(\"Iteration\", str(i+2), \": main_model accuracy on all test data: {:7.4f}\".format(test_accuracy))"
   ]
  }
 ],
 "metadata": {
  "kernelspec": {
   "display_name": "Python 3",
   "language": "python",
   "name": "python3"
  },
  "language_info": {
   "codemirror_mode": {
    "name": "ipython",
    "version": 3
   },
   "file_extension": ".py",
   "mimetype": "text/x-python",
   "name": "python",
   "nbconvert_exporter": "python",
   "pygments_lexer": "ipython3",
   "version": "3.8.5"
  }
 },
 "nbformat": 4,
 "nbformat_minor": 4
}
